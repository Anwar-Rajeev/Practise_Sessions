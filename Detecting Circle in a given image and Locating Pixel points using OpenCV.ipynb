{
 "cells": [
  {
   "cell_type": "code",
   "execution_count": 9,
   "id": "88d92c89",
   "metadata": {},
   "outputs": [
    {
     "name": "stdout",
     "output_type": "stream",
     "text": [
      "point1: -1.0\n",
      "point2: -1.0\n",
      "point3: 1.0\n"
     ]
    },
    {
     "data": {
      "text/plain": [
       "-1"
      ]
     },
     "execution_count": 9,
     "metadata": {},
     "output_type": "execute_result"
    }
   ],
   "source": [
    "#importing libraries\n",
    "import numpy as np\n",
    "import cv2\n",
    "\n",
    "#loading image and converting to grayscale\n",
    "image = cv2.imread(\"input file\") #eg: \"image.jpg\"\n",
    "output = image.copy()\n",
    "gray = cv2.cvtColor(image, cv2.COLOR_BGR2GRAY)\n",
    "canny = cv2.Canny(gray, 120, 255, 1)\n",
    "cnts = cv2.findContours(canny, cv2.RETR_EXTERNAL, cv2.CHAIN_APPROX_SIMPLE)\n",
    "cnts = cnts[0] if len(cnts) == 2 else cnts[1]\n",
    "\n",
    "#defining the pixel points\n",
    "point1 = (10, 50)\n",
    "point2 = (30, 60)\n",
    "point3 = (100, 80)\n",
    "\n",
    "#detecting circles and checking if pixels are inside, outside or on the contour\n",
    "circles=cv2.HoughCircles(gray, cv2.HOUGH_GRADIENT,1.2,100)\n",
    "if circles is not None:\n",
    "    circles=np.round(circles[0,:]).astype(\"int\")\n",
    "    for (x, y, r) in circles:\n",
    "        cv2.circle(output,(x,y),r,(255, 0, 0),4)\n",
    "        cv2.rectangle(output, (x - 5, y - 5), (x + 5, y + 5), (0, 128, 255), -1)\n",
    "    for c in cnts:\n",
    "        cv2.drawContours(image, [c], -1, (255, 0, 0), 2)\n",
    "        result1 = cv2.pointPolygonTest(c, point1, False)\n",
    "        result2 = cv2.pointPolygonTest(c, point2, False)\n",
    "        result3 = cv2.pointPolygonTest(c, point3, False)\n",
    "\n",
    "#drawing the pixel points\n",
    "cv2.circle(image, point1, 8, (100, 100, 255), -1)\n",
    "cv2.putText(image, 'point1', (point1[0] -10, point1[1] -20), cv2.FONT_HERSHEY_SIMPLEX, 1.0, (0, 0, 0), lineType=cv2.LINE_AA)\n",
    "cv2.circle(image, point2, 8, (200, 100, 55), -1)\n",
    "cv2.putText(image, 'point2', (point2[0] -10, point2[1] -20), cv2.FONT_HERSHEY_SIMPLEX, 1.0, (0, 0, 0), lineType=cv2.LINE_AA)\n",
    "cv2.circle(image, point3, 8, (150, 50, 155), -1)\n",
    "cv2.putText(image, 'point3', (point3[0] -10, point3[1] -20), cv2.FONT_HERSHEY_SIMPLEX, 1.0, (0, 0, 0), lineType=cv2.LINE_AA)\n",
    "\n",
    "#showing the results\n",
    "print('point1:', result1)\n",
    "print('point2:', result2)\n",
    "print('point3:', result3)\n",
    "cv2.imshow(\"output\",np.hstack([image]))\n",
    "cv2.waitKey(0)"
   ]
  },
  {
   "cell_type": "code",
   "execution_count": null,
   "id": "42b570d5",
   "metadata": {},
   "outputs": [],
   "source": []
  }
 ],
 "metadata": {
  "kernelspec": {
   "display_name": "Python 3",
   "language": "python",
   "name": "python3"
  },
  "language_info": {
   "codemirror_mode": {
    "name": "ipython",
    "version": 3
   },
   "file_extension": ".py",
   "mimetype": "text/x-python",
   "name": "python",
   "nbconvert_exporter": "python",
   "pygments_lexer": "ipython3",
   "version": "3.8.8"
  }
 },
 "nbformat": 4,
 "nbformat_minor": 5
}
